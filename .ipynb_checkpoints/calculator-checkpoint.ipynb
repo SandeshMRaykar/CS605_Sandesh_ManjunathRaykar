{
 "cells": [
  {
   "cell_type": "code",
   "execution_count": 6,
   "id": "f23a900d-2112-4ad6-9fbc-1dd5fa14caf8",
   "metadata": {},
   "outputs": [
    {
     "name": "stdout",
     "output_type": "stream",
     "text": [
      "Welcome to the Simple Calculator !\n"
     ]
    },
    {
     "name": "stdin",
     "output_type": "stream",
     "text": [
      "Enter the first number : 6\n",
      "Enter the second number : 2\n"
     ]
    },
    {
     "name": "stdout",
     "output_type": "stream",
     "text": [
      "Select an operation:\n",
      "1. Addition\n",
      "2. Subtraction\n",
      "3. Multiplication\n",
      "4. Division\n"
     ]
    },
    {
     "name": "stdin",
     "output_type": "stream",
     "text": [
      "enter the operation number (1-4): 4\n"
     ]
    },
    {
     "name": "stdout",
     "output_type": "stream",
     "text": [
      "Result : 6.0 / 2.0 = 3.0\n"
     ]
    },
    {
     "name": "stdin",
     "output_type": "stream",
     "text": [
      "do ypu want to perform another calculation (yes/no) : yES\n",
      "Enter the first number : 9\n",
      "Enter the second number : 0\n"
     ]
    },
    {
     "name": "stdout",
     "output_type": "stream",
     "text": [
      "Select an operation:\n",
      "1. Addition\n",
      "2. Subtraction\n",
      "3. Multiplication\n",
      "4. Division\n"
     ]
    },
    {
     "name": "stdin",
     "output_type": "stream",
     "text": [
      "enter the operation number (1-4): 4\n"
     ]
    },
    {
     "name": "stdout",
     "output_type": "stream",
     "text": [
      "Result : 9.0 / 0.0 = Error! Division by Zero is not allowed.\n"
     ]
    },
    {
     "name": "stdin",
     "output_type": "stream",
     "text": [
      "do ypu want to perform another calculation (yes/no) : yes\n",
      "Enter the first number : e\n"
     ]
    },
    {
     "name": "stdout",
     "output_type": "stream",
     "text": [
      "Invalid input ! Please enter a number. \n"
     ]
    },
    {
     "name": "stdin",
     "output_type": "stream",
     "text": [
      "Enter the first number : 0\n",
      "Enter the second number : 4\n"
     ]
    },
    {
     "name": "stdout",
     "output_type": "stream",
     "text": [
      "Select an operation:\n",
      "1. Addition\n",
      "2. Subtraction\n",
      "3. Multiplication\n",
      "4. Division\n"
     ]
    },
    {
     "name": "stdin",
     "output_type": "stream",
     "text": [
      "enter the operation number (1-4): 1\n"
     ]
    },
    {
     "name": "stdout",
     "output_type": "stream",
     "text": [
      "Result : 0.0 + 4.0 = 4.0\n"
     ]
    },
    {
     "name": "stdin",
     "output_type": "stream",
     "text": [
      "do ypu want to perform another calculation (yes/no) : no\n"
     ]
    },
    {
     "name": "stdout",
     "output_type": "stream",
     "text": [
      "Good Bye!\n"
     ]
    }
   ],
   "source": [
    "def add(x, y):\n",
    "    return x+y\n",
    "\n",
    "def subtract(x, y):\n",
    "    return x-y\n",
    "\n",
    "def multiply(x, y):\n",
    "    return x*y\n",
    "\n",
    "def divide(x, y):\n",
    "    if y==0:\n",
    "        return \"Error! Division by Zero is not allowed.\"\n",
    "    return x/y\n",
    "\n",
    "def main():\n",
    "    print(\"Welcome to the Simple Calculator !\")\n",
    "\n",
    "    while True:\n",
    "        try:\n",
    "            num1 = float(input(\"Enter the first number :\"))\n",
    "        except ValueError:\n",
    "            print(\"Invalid input ! Please enter a number. \")\n",
    "            continue\n",
    "\n",
    "        try:\n",
    "            num2 = float(input(\"Enter the second number :\"))\n",
    "        except ValueError:\n",
    "            print(\"Invalid input ! Please enter a number. \")\n",
    "            continue            \n",
    "\n",
    "        print(\"Select an operation:\")\n",
    "        print(\"1. Addition\")\n",
    "        print(\"2. Subtraction\")\n",
    "        print(\"3. Multiplication\")\n",
    "        print(\"4. Division\")\n",
    "\n",
    "        choice = input(\"enter the operation number:\")\n",
    "\n",
    "        if choice == '1':\n",
    "            result = add(num1, num2)\n",
    "            print(f\"Result : {num1} + {num2} = {result}\")\n",
    "\n",
    "        elif choice == '2':\n",
    "            result = subtract(num1, num2)\n",
    "            print(f\"Result : {num1} - {num2} = {result}\")\n",
    "\n",
    "        elif choice == '3':\n",
    "            result = multiply(num1, num2)\n",
    "            print(f\"Result : {num1} * {num2} = {result}\")\n",
    "\n",
    "        elif choice == '4':\n",
    "            result = divide(num1, num2)\n",
    "            print(f\"Result : {num1} / {num2} = {result}\")\n",
    "\n",
    "        else:\n",
    "            print(\"Ivalid Choice ! Enter a number between 1 to 4\")\n",
    "\n",
    "        next = input(\"Do you want to perform another calculation (yes/no) :\").strip().lower()\n",
    "\n",
    "        if next != 'yes':\n",
    "            print(\"Good Bye!\")\n",
    "            break\n",
    "\n",
    "main()\n",
    "            \n",
    "            "
   ]
  },
  {
   "cell_type": "code",
   "execution_count": null,
   "id": "f0882b07-f920-4bbb-a3d3-b9739d06144e",
   "metadata": {},
   "outputs": [],
   "source": []
  }
 ],
 "metadata": {
  "kernelspec": {
   "display_name": "Python [conda env:base] *",
   "language": "python",
   "name": "conda-base-py"
  },
  "language_info": {
   "codemirror_mode": {
    "name": "ipython",
    "version": 3
   },
   "file_extension": ".py",
   "mimetype": "text/x-python",
   "name": "python",
   "nbconvert_exporter": "python",
   "pygments_lexer": "ipython3",
   "version": "3.13.5"
  }
 },
 "nbformat": 4,
 "nbformat_minor": 5
}
